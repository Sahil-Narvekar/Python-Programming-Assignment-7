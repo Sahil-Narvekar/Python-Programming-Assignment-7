{
 "cells": [
  {
   "cell_type": "code",
   "execution_count": null,
   "metadata": {},
   "outputs": [],
   "source": [
    "1. Write a Python Program to find sum of array?"
   ]
  },
  {
   "cell_type": "code",
   "execution_count": 3,
   "metadata": {},
   "outputs": [
    {
     "name": "stdout",
     "output_type": "stream",
     "text": [
      "Enter the array 9 8 2 1\n",
      "20 is the sum\n"
     ]
    }
   ],
   "source": [
    "import numpy as np\n",
    "d=np.array(input('Enter the array ').split())\n",
    "d=[int(i) for i in d]\n",
    "print(d.sum(),'is the sum')"
   ]
  },
  {
   "cell_type": "code",
   "execution_count": null,
   "metadata": {},
   "outputs": [],
   "source": [
    "2. Write a Python Program to find largest element in an array?"
   ]
  },
  {
   "cell_type": "code",
   "execution_count": 6,
   "metadata": {},
   "outputs": [
    {
     "name": "stdout",
     "output_type": "stream",
     "text": [
      "Enter the array 4 96 34 64 9 2 992\n",
      "992 is the largest element in the array\n"
     ]
    }
   ],
   "source": [
    "import numpy as np\n",
    "d=np.array(input('Enter the array ').split())\n",
    "d=[int(i) for i in d]\n",
    "d.sort()\n",
    "print(d[-1],'is the largest element in the array')"
   ]
  },
  {
   "cell_type": "code",
   "execution_count": null,
   "metadata": {},
   "outputs": [],
   "source": [
    "3. Write a Python Program for array rotation?"
   ]
  },
  {
   "cell_type": "code",
   "execution_count": 3,
   "metadata": {},
   "outputs": [
    {
     "name": "stdout",
     "output_type": "stream",
     "text": [
      "Enter the array,by default right shifted;enter extra 0 for left rotation; at the end. 89 33 6 75 0\n",
      "['75', '89', '33', '6']\n"
     ]
    }
   ],
   "source": [
    "import numpy as np\n",
    "d=(input('Enter the array,by default right shifted;enter extra 0 for left rotation; at the end. ').split())\n",
    "#d=[int(i) for i in d]\n",
    "k=1\n",
    "if int(d[-1])==0:\n",
    "    d=d[:-1]\n",
    "    d.insert(0,d[-1])\n",
    "    print(d[:-1])\n",
    "else:\n",
    "    a=d[0]\n",
    "    d=d[1:]\n",
    "    d.append(a)\n",
    "    print(d)"
   ]
  },
  {
   "cell_type": "code",
   "execution_count": null,
   "metadata": {},
   "outputs": [],
   "source": [
    "4. Write a Python Program to Split the array and add the first part to the end?"
   ]
  },
  {
   "cell_type": "code",
   "execution_count": 9,
   "metadata": {},
   "outputs": [
    {
     "name": "stdout",
     "output_type": "stream",
     "text": [
      "Enter the array to be split 78 236 96 20 3 4 1 5\n",
      "['3', '4', '1', '5', '78', '236', '96', '20']\n"
     ]
    }
   ],
   "source": [
    "d=(input('Enter the array to be split ').split())\n",
    "a=d[:len(d)//2]\n",
    "b=d[len(d)//2:len(d)]\n",
    "print(b+a)"
   ]
  },
  {
   "cell_type": "code",
   "execution_count": null,
   "metadata": {},
   "outputs": [],
   "source": [
    "5. Write a Python Program to check if given array is Monotonic?"
   ]
  },
  {
   "cell_type": "code",
   "execution_count": 38,
   "metadata": {},
   "outputs": [
    {
     "name": "stdout",
     "output_type": "stream",
     "text": [
      "Enter the array to be checked 7 85 97\n",
      "Monotonous\n"
     ]
    }
   ],
   "source": [
    "d=(input('Enter the array to be checked ').split())\n",
    "k=0\n",
    "\n",
    "for i in range(len(d)-1):\n",
    "    \n",
    "    if d[i+1]>d[i] and k!=2:\n",
    "        k=1\n",
    "        if (len(d)-2)==i:\n",
    "            print('Monotonous')\n",
    "        else:\n",
    "            \n",
    "            continue\n",
    "    elif d[i+1]<d[i] and k!=1:\n",
    "        k=2\n",
    "        if (len(d)-2)==i:\n",
    "            print('Monotonous')\n",
    "        else:\n",
    "            continue\n",
    "         \n",
    "    else:\n",
    "        print('not Monotonous')\n",
    "        break"
   ]
  },
  {
   "cell_type": "code",
   "execution_count": null,
   "metadata": {},
   "outputs": [],
   "source": []
  }
 ],
 "metadata": {
  "kernelspec": {
   "display_name": "Python 3",
   "language": "python",
   "name": "python3"
  },
  "language_info": {
   "codemirror_mode": {
    "name": "ipython",
    "version": 3
   },
   "file_extension": ".py",
   "mimetype": "text/x-python",
   "name": "python",
   "nbconvert_exporter": "python",
   "pygments_lexer": "ipython3",
   "version": "3.8.3"
  }
 },
 "nbformat": 4,
 "nbformat_minor": 4
}
