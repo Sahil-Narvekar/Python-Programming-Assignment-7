{
 "cells": [
  {
   "cell_type": "code",
   "execution_count": null,
   "metadata": {},
   "outputs": [],
   "source": [
    "1. Write a Python Program to Display Fibonacci Sequence Using Recursion?"
   ]
  },
  {
   "cell_type": "code",
   "execution_count": 8,
   "metadata": {},
   "outputs": [
    {
     "name": "stdout",
     "output_type": "stream",
     "text": [
      "Enter the number for Fibonacci Sequence 6\n",
      "1\n",
      "1\n",
      "2\n",
      "3\n",
      "5\n",
      "8\n",
      "13\n"
     ]
    }
   ],
   "source": [
    "def fiboseq(num):\n",
    "    if num<=1:\n",
    "        return(1)\n",
    "    else:\n",
    "        return(fiboseq(num-1)+fiboseq(num-2))\n",
    "num=int(input('Enter the number for Fibonacci Sequence '))   \n",
    "for i in range(0,num+1):\n",
    "    print(fiboseq(i))"
   ]
  },
  {
   "cell_type": "code",
   "execution_count": null,
   "metadata": {},
   "outputs": [],
   "source": [
    "2. Write a Python Program to Find Factorial of Number Using Recursion?"
   ]
  },
  {
   "cell_type": "code",
   "execution_count": 6,
   "metadata": {},
   "outputs": [
    {
     "name": "stdout",
     "output_type": "stream",
     "text": [
      "Enter the number for Factorial 9\n",
      "362880\n"
     ]
    }
   ],
   "source": [
    "def recfast(num):\n",
    "    if num<=1:\n",
    "        return 1\n",
    "    else:\n",
    "        return recfast(num)*recfact(num-1)\n",
    "num=int(input('Enter the number for Factorial ')) \n",
    "x=recfact(num)\n",
    "print(x)"
   ]
  },
  {
   "cell_type": "code",
   "execution_count": null,
   "metadata": {},
   "outputs": [],
   "source": [
    "3. Write a Python Program to calculate your Body Mass Index?"
   ]
  },
  {
   "cell_type": "code",
   "execution_count": 11,
   "metadata": {},
   "outputs": [
    {
     "name": "stdout",
     "output_type": "stream",
     "text": [
      "Enter the height in cms and weight in kgs 176 76\n",
      "24.54 is the bmi\n"
     ]
    }
   ],
   "source": [
    "x,y=(input('Enter the height in cms and weight in kgs ').split())\n",
    "bmi=int(y)/(0.01*int(x))**2\n",
    "print(round(bmi,2),'is the bmi')"
   ]
  },
  {
   "cell_type": "code",
   "execution_count": null,
   "metadata": {},
   "outputs": [],
   "source": [
    "4. Write a Python Program to calculate the natural logarithm of any number?"
   ]
  },
  {
   "cell_type": "code",
   "execution_count": 13,
   "metadata": {},
   "outputs": [
    {
     "name": "stdout",
     "output_type": "stream",
     "text": [
      "Enter the number whose natural log is to be calculated 96\n",
      "4.5643 is the natural logarithm of given number\n"
     ]
    }
   ],
   "source": [
    "num=int(input('Enter the number whose natural log is to be calculated '))\n",
    "import math\n",
    "z=math.log(num)\n",
    "print(round(z,4),'is the natural logarithm of given number')"
   ]
  },
  {
   "cell_type": "code",
   "execution_count": null,
   "metadata": {},
   "outputs": [],
   "source": [
    "5. Write a Python Program for cube sum of first n natural numbers?"
   ]
  },
  {
   "cell_type": "code",
   "execution_count": 17,
   "metadata": {},
   "outputs": [
    {
     "name": "stdout",
     "output_type": "stream",
     "text": [
      "Enter the number whose cube sum of the numbers is to be calculated 3\n",
      "36\n"
     ]
    }
   ],
   "source": [
    "num=int(input('Enter the number whose cube sum of the numbers is to be calculated '))\n",
    "sum1=0\n",
    "for i in range(1,num+1):\n",
    "    z=i**3\n",
    "    sum1=sum1+z\n",
    "print(sum1)    "
   ]
  },
  {
   "cell_type": "code",
   "execution_count": null,
   "metadata": {},
   "outputs": [],
   "source": []
  }
 ],
 "metadata": {
  "kernelspec": {
   "display_name": "Python 3",
   "language": "python",
   "name": "python3"
  },
  "language_info": {
   "codemirror_mode": {
    "name": "ipython",
    "version": 3
   },
   "file_extension": ".py",
   "mimetype": "text/x-python",
   "name": "python",
   "nbconvert_exporter": "python",
   "pygments_lexer": "ipython3",
   "version": "3.8.3"
  }
 },
 "nbformat": 4,
 "nbformat_minor": 4
}
